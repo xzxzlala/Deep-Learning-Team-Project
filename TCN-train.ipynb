{
 "cells": [
  {
   "cell_type": "code",
   "execution_count": 1,
   "metadata": {},
   "outputs": [],
   "source": [
    "import numpy as np\n",
    "import torch\n",
    "from torch.utils.data import Dataset\n",
    "from torchvision import transforms\n",
    "\n",
    "class VideoDataset(Dataset):\n",
    "    def __init__(self, npz_path, transform=None, target_size=(224, 224)):\n",
    "        \"\"\"\n",
    "        PyTorch Dataset for loading videos and labels with fixed frame count.\n",
    "\n",
    "        Args:\n",
    "            npz_path (str): Path to the .npz file.\n",
    "            transform (callable, optional): Transformations to apply to video frames.\n",
    "            target_size (tuple): Target frame size (height, width) for resizing.\n",
    "        \"\"\"\n",
    "        self.data = np.load(npz_path, allow_pickle=True)\n",
    "        self.keys = list(self.data.keys())  # All keys in the .npz file\n",
    "        self.transform = transform\n",
    "        self.target_size = target_size\n",
    "\n",
    "    def __len__(self):\n",
    "        return len(self.keys)\n",
    "\n",
    "    def __getitem__(self, idx):\n",
    "        # Load video and label from the .npz file\n",
    "        key = self.keys[idx]\n",
    "        item = self.data[key].item()  # Extract dictionary from object array\n",
    "        video = item[\"video\"]  # NumPy array, shape: (30, height, width, channels)\n",
    "        label = item[\"label\"]\n",
    "\n",
    "        # Process video frames\n",
    "        video = self._process_video(video)\n",
    "        video = video.permute(1,0,2,3)  # 从 [T, H, W, C] 转换为 [C, T, H, W]\n",
    "\n",
    "        label = int(label)\n",
    "        # Convert label to tensor\n",
    "        label = torch.tensor(label, dtype=torch.long)\n",
    "\n",
    "        return video, label\n",
    "\n",
    "    def _process_video(self, video):\n",
    "        \"\"\"\n",
    "        Process video frames: resize frames and apply optional transformations.\n",
    "        \"\"\"\n",
    "        processed_frames = []\n",
    "\n",
    "        for frame in video:\n",
    "            # Resize each frame to target size\n",
    "            frame = transforms.ToPILImage()(frame)  # Convert NumPy array to PIL image\n",
    "            frame = frame.resize(self.target_size)  # Resize to target size\n",
    "            frame = transforms.ToTensor()(frame)   # Convert to Tensor\n",
    "            if self.transform:\n",
    "                frame = self.transform(frame)      # Apply additional transforms\n",
    "            processed_frames.append(frame)\n",
    "\n",
    "        # Convert processed frames to a tensor\n",
    "        video_tensor = torch.stack(processed_frames)\n",
    "\n",
    "        return video_tensor\n"
   ]
  },
  {
   "cell_type": "code",
   "execution_count": 2,
   "metadata": {},
   "outputs": [
    {
     "name": "stdout",
     "output_type": "stream",
     "text": [
      "Dataset size: 663\n",
      "Video shape: torch.Size([3, 30, 224, 224]), Label: 0\n",
      "Video shape: torch.Size([3, 30, 224, 224]), Label: 0\n"
     ]
    }
   ],
   "source": [
    "train_dataset = VideoDataset(\n",
    "    npz_path=\"./gesture-recognition-dataset/train_data_combined.npz\",\n",
    "    transform=transforms.Normalize(mean=[0.5], std=[0.5]),  # Normalize frames\n",
    "    target_size=(224, 224)\n",
    ")\n",
    "\n",
    "val_dataset = VideoDataset(\n",
    "    npz_path=\"./gesture-recognition-dataset/val_data_combined.npz\",\n",
    "    transform=transforms.Normalize(mean=[0.5], std=[0.5]),  # Normalize frames\n",
    "    target_size=(224, 224)\n",
    ")\n",
    "\n",
    "print(f\"Dataset size: {len(train_dataset)}\")\n",
    "\n",
    "# check a sample\n",
    "video, label = train_dataset[0]\n",
    "print(f\"Video shape: {video.shape}, Label: {label}\")\n",
    "\n",
    "video, label = val_dataset[0]\n",
    "print(f\"Video shape: {video.shape}, Label: {label}\")"
   ]
  },
  {
   "cell_type": "code",
   "execution_count": 3,
   "metadata": {},
   "outputs": [
    {
     "name": "stdout",
     "output_type": "stream",
     "text": [
      "torch.Size([4, 3, 30, 224, 224])\n",
      "torch.Size([4])\n",
      "torch.Size([4, 3, 30, 224, 224])\n",
      "torch.Size([4])\n"
     ]
    }
   ],
   "source": [
    "from torch.utils.data import DataLoader\n",
    "train_loader = DataLoader(train_dataset, batch_size=4, shuffle=True, num_workers=0)\n",
    "val_loader = DataLoader(val_dataset, batch_size=4, shuffle=False, num_workers=0)\n",
    "for batch in train_loader:\n",
    "    print(batch[0].shape) # input data\n",
    "    print(batch[1].shape)  # label\n",
    "    break\n",
    "for batch in val_loader:\n",
    "    print(batch[0].shape)\n",
    "    print(batch[1].shape)\n",
    "    break\n"
   ]
  },
  {
   "cell_type": "code",
   "execution_count": 11,
   "metadata": {},
   "outputs": [
    {
     "name": "stderr",
     "output_type": "stream",
     "text": [
      "/Users/zihang/anaconda3/envs/torch/lib/python3.11/site-packages/torchvision/models/_utils.py:208: UserWarning: The parameter 'pretrained' is deprecated since 0.13 and may be removed in the future, please use 'weights' instead.\n",
      "  warnings.warn(\n",
      "/Users/zihang/anaconda3/envs/torch/lib/python3.11/site-packages/torchvision/models/_utils.py:223: UserWarning: Arguments other than a weight enum or `None` for 'weights' are deprecated since 0.13 and may be removed in the future. The current behavior is equivalent to passing `weights=ResNet18_Weights.IMAGENET1K_V1`. You can also use `weights=ResNet18_Weights.DEFAULT` to get the most up-to-date weights.\n",
      "  warnings.warn(msg)\n"
     ]
    }
   ],
   "source": [
    "from TCN import TCNWithResNet\n",
    "import torch.nn as nn\n",
    "\n",
    "tcn_model = TCNWithResNet(in_channels=512, num_classes=5)"
   ]
  },
  {
   "cell_type": "code",
   "execution_count": 8,
   "metadata": {},
   "outputs": [],
   "source": [
    "import matplotlib.pyplot as plt\n",
    "\n",
    "def plot_metrics(train_loss_list, val_loss_list, train_acc_list, val_acc_list, train_auc_list, val_auc_list):\n",
    "    plt.figure()\n",
    "    plt.plot(train_loss_list, label='train_loss')\n",
    "    if val_loss_list:\n",
    "        plt.plot(val_loss_list, label='val_loss')\n",
    "    plt.yscale('log')  # Apply log scaling to the y-axis\n",
    "    plt.legend()\n",
    "    plt.title('Loss (Log Scale)')\n",
    "    plt.show()\n",
    "\n",
    "    plt.figure()\n",
    "    plt.plot(train_acc_list, label='train_acc')\n",
    "    if val_acc_list:\n",
    "        plt.plot(val_acc_list, label='val_acc')\n",
    "    plt.legend()\n",
    "    plt.title('Accuracy')\n",
    "    plt.show()\n",
    "\n",
    "    plt.figure()\n",
    "    plt.plot(train_auc_list, label='train_auc')\n",
    "    if val_auc_list:\n",
    "        plt.plot(val_auc_list, label='val_auc')\n",
    "    plt.legend()\n",
    "    plt.title('AUC')\n",
    "    plt.show()"
   ]
  },
  {
   "cell_type": "code",
   "execution_count": 13,
   "metadata": {},
   "outputs": [],
   "source": [
    "import torch\n",
    "import torch.nn as nn\n",
    "from torch.utils.data import DataLoader\n",
    "from torchvision.transforms import Normalize\n",
    "from tqdm import tqdm\n",
    "from sklearn.metrics import roc_auc_score\n",
    "import numpy as np\n",
    "from torch.nn import functional as F\n",
    "\n",
    "\n",
    "def train_model(model, train_loader, val_loader=None, num_epochs=10, device='cuda', lr=0.001, log_dir=\"./logs\"):\n",
    "    \"\"\"\n",
    "    Train a given model using the specified dataset and parameters.\n",
    "\n",
    "    Args:\n",
    "        model (nn.Module): The model to train.\n",
    "        train_loader (DataLoader): DataLoader for the training dataset.\n",
    "        val_loader (DataLoader, optional): DataLoader for the validation dataset.\n",
    "        num_epochs (int): Number of epochs to train.\n",
    "        device (str): Device to train on ('cuda' or 'cpu').\n",
    "        lr (float): Learning rate for the optimizer.\n",
    "\n",
    "    Returns:\n",
    "        model: The trained model.\n",
    "    \"\"\"\n",
    "    # Move model to the specified device\n",
    "    model = model.to(device)\n",
    "\n",
    "    # Define loss function and optimizer\n",
    "    criterion = nn.CrossEntropyLoss()\n",
    "    optimizer = torch.optim.Adam(model.parameters(), lr=lr)\n",
    "\n",
    "    best_val_auc = 0.0\n",
    "    best_val_acc = 0.0\n",
    "    best_model_path_acc = 'best_model_acc.pth'\n",
    "    best_model_path_auc = 'best_model_auc.pth'\n",
    "\n",
    "    train_loss_list= []\n",
    "    train_acc_list = []\n",
    "    train_auc_list = []\n",
    "    val_loss_list = []\n",
    "    val_acc_list = []\n",
    "    val_auc_list = []\n",
    "\n",
    "    # Training loop\n",
    "    for epoch in range(num_epochs):\n",
    "        model.train()\n",
    "        train_loss = 0\n",
    "        correct = 0\n",
    "        total = 0\n",
    "        all_labels = []\n",
    "        all_outputs = []\n",
    "\n",
    "        print(f\"Epoch {epoch + 1}/{num_epochs}\")\n",
    "        for videos, labels in tqdm(train_loader):\n",
    "            # Move data to device\n",
    "            videos, labels = videos.to(device), labels.to(device)\n",
    "\n",
    "            # Forward pass\n",
    "            outputs = model(videos)\n",
    "            loss = criterion(outputs, labels)\n",
    "\n",
    "            # Backward pass and optimization\n",
    "            optimizer.zero_grad()\n",
    "            loss.backward()\n",
    "            optimizer.step()\n",
    "\n",
    "            # Update training statistics\n",
    "            train_loss += loss.item()\n",
    "            _, predicted = outputs.max(1)\n",
    "            total += labels.size(0)\n",
    "            correct += predicted.eq(labels).sum().item()\n",
    "\n",
    "            all_labels.extend(labels.cpu().numpy())\n",
    "            all_outputs.extend(F.softmax(outputs, dim=1).cpu().detach().numpy())\n",
    "\n",
    "        train_acc = 100. * correct / total\n",
    "        train_auc = roc_auc_score(all_labels, all_outputs, multi_class='ovr')\n",
    "        print(f\"Train Loss: {train_loss:.4f}, Train Accuracy: {train_acc:.2f}%, Train AUC: {train_auc:.2f}\")\n",
    "        \n",
    "        # Log training metrics to TensorBoard\n",
    "        train_loss_list.append(train_loss)\n",
    "        train_acc_list.append(train_acc)\n",
    "        train_auc_list.append(train_auc)\n",
    "\n",
    "        # Validation\n",
    "        if val_loader:\n",
    "            model.eval()\n",
    "            val_loss = 0\n",
    "            correct = 0\n",
    "            total = 0\n",
    "            all_labels = []\n",
    "            all_outputs = []\n",
    "            with torch.no_grad():\n",
    "                for videos, labels in val_loader:\n",
    "                    videos, labels = videos.to(device), labels.to(device)\n",
    "                    outputs = model(videos)\n",
    "                    loss = criterion(outputs, labels)\n",
    "\n",
    "                    val_loss += loss.item()\n",
    "                    _, predicted = outputs.max(1)\n",
    "                    total += labels.size(0)\n",
    "                    correct += predicted.eq(labels).sum().item()\n",
    "                    all_labels.extend(labels.cpu().numpy())\n",
    "                    all_outputs.extend(F.softmax(outputs, dim=1).cpu().detach().numpy())\n",
    "\n",
    "            val_acc = 100. * correct / total\n",
    "            val_auc = roc_auc_score(all_labels, all_outputs, multi_class='ovr')\n",
    "            print(f\"Validation Loss: {val_loss:.4f}, Validation Accuracy: {val_acc:.2f}%, Validation AUC: {val_auc:.2f}\")\n",
    "\n",
    "            # Log validation metrics to TensorBoard\n",
    "            val_loss_list.append(val_loss)\n",
    "            val_acc_list.append(val_acc)\n",
    "            val_auc_list.append(val_auc)\n",
    "\n",
    "            # Save the model if it has the best validation AUC so far\n",
    "            if val_auc > best_val_auc:\n",
    "                best_val_auc = val_auc\n",
    "                torch.save(model.state_dict(), best_model_path_auc)\n",
    "                print(f\"Saved best model with AUC: {best_val_auc:.4f}\")\n",
    "\n",
    "            # Save the model if it has the best validation Accuracy so far\n",
    "            if val_acc > best_val_acc:\n",
    "                best_val_acc = val_acc\n",
    "                torch.save(model.state_dict(), best_model_path_acc)\n",
    "                print(f\"Saved best model with Accuracy: {best_val_acc:.2f}%\")\n",
    "\n",
    "    # draw the loss and acc and auc in python\n",
    "    plot_metrics(train_loss_list, val_loss_list, train_acc_list, val_acc_list, train_auc_list, val_auc_list)\n",
    "\n",
    "\n",
    "\n",
    "    return model\n"
   ]
  },
  {
   "cell_type": "code",
   "execution_count": 14,
   "metadata": {},
   "outputs": [
    {
     "name": "stdout",
     "output_type": "stream",
     "text": [
      "Epoch 1/20\n"
     ]
    },
    {
     "name": "stderr",
     "output_type": "stream",
     "text": [
      "100%|██████████| 166/166 [01:54<00:00,  1.45it/s]\n"
     ]
    },
    {
     "name": "stdout",
     "output_type": "stream",
     "text": [
      "Train Loss: 230.4712, Train Accuracy: 36.95%, Train AUC: 0.74\n",
      "Validation Loss: 38.6729, Validation Accuracy: 33.00%, Validation AUC: 0.82\n",
      "Saved best model with AUC: 0.8205\n",
      "Saved best model with Accuracy: 33.00%\n",
      "Epoch 2/20\n"
     ]
    },
    {
     "name": "stderr",
     "output_type": "stream",
     "text": [
      "100%|██████████| 166/166 [01:48<00:00,  1.53it/s]\n"
     ]
    },
    {
     "name": "stdout",
     "output_type": "stream",
     "text": [
      "Train Loss: 213.0770, Train Accuracy: 44.04%, Train AUC: 0.78\n",
      "Validation Loss: 38.7132, Validation Accuracy: 47.00%, Validation AUC: 0.76\n",
      "Saved best model with Accuracy: 47.00%\n",
      "Epoch 3/20\n"
     ]
    },
    {
     "name": "stderr",
     "output_type": "stream",
     "text": [
      "100%|██████████| 166/166 [01:48<00:00,  1.52it/s]\n"
     ]
    },
    {
     "name": "stdout",
     "output_type": "stream",
     "text": [
      "Train Loss: 210.3128, Train Accuracy: 41.63%, Train AUC: 0.77\n",
      "Validation Loss: 28.8657, Validation Accuracy: 41.00%, Validation AUC: 0.84\n",
      "Saved best model with AUC: 0.8376\n",
      "Epoch 4/20\n"
     ]
    },
    {
     "name": "stderr",
     "output_type": "stream",
     "text": [
      "100%|██████████| 166/166 [01:48<00:00,  1.53it/s]\n"
     ]
    },
    {
     "name": "stdout",
     "output_type": "stream",
     "text": [
      "Train Loss: 206.9925, Train Accuracy: 44.80%, Train AUC: 0.79\n",
      "Validation Loss: 31.8959, Validation Accuracy: 48.00%, Validation AUC: 0.83\n",
      "Saved best model with Accuracy: 48.00%\n",
      "Epoch 5/20\n"
     ]
    },
    {
     "name": "stderr",
     "output_type": "stream",
     "text": [
      "100%|██████████| 166/166 [01:48<00:00,  1.53it/s]\n"
     ]
    },
    {
     "name": "stdout",
     "output_type": "stream",
     "text": [
      "Train Loss: 193.0972, Train Accuracy: 49.62%, Train AUC: 0.81\n",
      "Validation Loss: 38.2752, Validation Accuracy: 40.00%, Validation AUC: 0.78\n",
      "Epoch 6/20\n"
     ]
    },
    {
     "name": "stderr",
     "output_type": "stream",
     "text": [
      "100%|██████████| 166/166 [01:49<00:00,  1.51it/s]\n"
     ]
    },
    {
     "name": "stdout",
     "output_type": "stream",
     "text": [
      "Train Loss: 200.4660, Train Accuracy: 49.47%, Train AUC: 0.80\n",
      "Validation Loss: 41.5415, Validation Accuracy: 44.00%, Validation AUC: 0.78\n",
      "Epoch 7/20\n"
     ]
    },
    {
     "name": "stderr",
     "output_type": "stream",
     "text": [
      "100%|██████████| 166/166 [01:53<00:00,  1.46it/s]\n"
     ]
    },
    {
     "name": "stdout",
     "output_type": "stream",
     "text": [
      "Train Loss: 180.5227, Train Accuracy: 54.45%, Train AUC: 0.84\n",
      "Validation Loss: 40.3120, Validation Accuracy: 43.00%, Validation AUC: 0.82\n",
      "Epoch 8/20\n"
     ]
    },
    {
     "name": "stderr",
     "output_type": "stream",
     "text": [
      "100%|██████████| 166/166 [01:49<00:00,  1.51it/s]\n"
     ]
    },
    {
     "name": "stdout",
     "output_type": "stream",
     "text": [
      "Train Loss: 179.6569, Train Accuracy: 51.13%, Train AUC: 0.84\n",
      "Validation Loss: 65.0565, Validation Accuracy: 53.00%, Validation AUC: 0.80\n",
      "Saved best model with Accuracy: 53.00%\n",
      "Epoch 9/20\n"
     ]
    },
    {
     "name": "stderr",
     "output_type": "stream",
     "text": [
      "100%|██████████| 166/166 [01:51<00:00,  1.49it/s]\n"
     ]
    },
    {
     "name": "stdout",
     "output_type": "stream",
     "text": [
      "Train Loss: 171.6369, Train Accuracy: 53.85%, Train AUC: 0.85\n",
      "Validation Loss: 42.4363, Validation Accuracy: 45.00%, Validation AUC: 0.82\n",
      "Epoch 10/20\n"
     ]
    },
    {
     "name": "stderr",
     "output_type": "stream",
     "text": [
      "100%|██████████| 166/166 [01:51<00:00,  1.48it/s]\n"
     ]
    },
    {
     "name": "stdout",
     "output_type": "stream",
     "text": [
      "Train Loss: 158.2818, Train Accuracy: 56.41%, Train AUC: 0.88\n",
      "Validation Loss: 17.6784, Validation Accuracy: 69.00%, Validation AUC: 0.93\n",
      "Saved best model with AUC: 0.9317\n",
      "Saved best model with Accuracy: 69.00%\n",
      "Epoch 11/20\n"
     ]
    },
    {
     "name": "stderr",
     "output_type": "stream",
     "text": [
      "100%|██████████| 166/166 [01:49<00:00,  1.51it/s]\n"
     ]
    },
    {
     "name": "stdout",
     "output_type": "stream",
     "text": [
      "Train Loss: 149.6197, Train Accuracy: 62.59%, Train AUC: 0.89\n",
      "Validation Loss: 19.8029, Validation Accuracy: 73.00%, Validation AUC: 0.94\n",
      "Saved best model with AUC: 0.9401\n",
      "Saved best model with Accuracy: 73.00%\n",
      "Epoch 12/20\n"
     ]
    },
    {
     "name": "stderr",
     "output_type": "stream",
     "text": [
      "100%|██████████| 166/166 [01:49<00:00,  1.52it/s]\n"
     ]
    },
    {
     "name": "stdout",
     "output_type": "stream",
     "text": [
      "Train Loss: 149.3147, Train Accuracy: 63.95%, Train AUC: 0.89\n",
      "Validation Loss: 43.1003, Validation Accuracy: 51.00%, Validation AUC: 0.85\n",
      "Epoch 13/20\n"
     ]
    },
    {
     "name": "stderr",
     "output_type": "stream",
     "text": [
      "100%|██████████| 166/166 [01:48<00:00,  1.53it/s]\n"
     ]
    },
    {
     "name": "stdout",
     "output_type": "stream",
     "text": [
      "Train Loss: 133.1735, Train Accuracy: 69.83%, Train AUC: 0.92\n",
      "Validation Loss: 20.9832, Validation Accuracy: 64.00%, Validation AUC: 0.93\n",
      "Epoch 14/20\n"
     ]
    },
    {
     "name": "stderr",
     "output_type": "stream",
     "text": [
      "100%|██████████| 166/166 [01:49<00:00,  1.52it/s]\n"
     ]
    },
    {
     "name": "stdout",
     "output_type": "stream",
     "text": [
      "Train Loss: 127.6569, Train Accuracy: 69.83%, Train AUC: 0.92\n",
      "Validation Loss: 12.7729, Validation Accuracy: 83.00%, Validation AUC: 0.98\n",
      "Saved best model with AUC: 0.9819\n",
      "Saved best model with Accuracy: 83.00%\n",
      "Epoch 15/20\n"
     ]
    },
    {
     "name": "stderr",
     "output_type": "stream",
     "text": [
      "100%|██████████| 166/166 [01:49<00:00,  1.52it/s]\n"
     ]
    },
    {
     "name": "stdout",
     "output_type": "stream",
     "text": [
      "Train Loss: 101.5616, Train Accuracy: 77.68%, Train AUC: 0.95\n",
      "Validation Loss: 11.8353, Validation Accuracy: 85.00%, Validation AUC: 0.98\n",
      "Saved best model with Accuracy: 85.00%\n",
      "Epoch 16/20\n"
     ]
    },
    {
     "name": "stderr",
     "output_type": "stream",
     "text": [
      "100%|██████████| 166/166 [01:49<00:00,  1.52it/s]\n"
     ]
    },
    {
     "name": "stdout",
     "output_type": "stream",
     "text": [
      "Train Loss: 95.8214, Train Accuracy: 79.03%, Train AUC: 0.96\n",
      "Validation Loss: 14.2210, Validation Accuracy: 78.00%, Validation AUC: 0.97\n",
      "Epoch 17/20\n"
     ]
    },
    {
     "name": "stderr",
     "output_type": "stream",
     "text": [
      "100%|██████████| 166/166 [01:47<00:00,  1.54it/s]\n"
     ]
    },
    {
     "name": "stdout",
     "output_type": "stream",
     "text": [
      "Train Loss: 79.4616, Train Accuracy: 82.65%, Train AUC: 0.97\n",
      "Validation Loss: 14.1412, Validation Accuracy: 80.00%, Validation AUC: 0.98\n",
      "Epoch 18/20\n"
     ]
    },
    {
     "name": "stderr",
     "output_type": "stream",
     "text": [
      "100%|██████████| 166/166 [01:47<00:00,  1.54it/s]\n"
     ]
    },
    {
     "name": "stdout",
     "output_type": "stream",
     "text": [
      "Train Loss: 67.2209, Train Accuracy: 86.73%, Train AUC: 0.98\n",
      "Validation Loss: 7.8940, Validation Accuracy: 87.00%, Validation AUC: 0.99\n",
      "Saved best model with AUC: 0.9860\n",
      "Saved best model with Accuracy: 87.00%\n",
      "Epoch 19/20\n"
     ]
    },
    {
     "name": "stderr",
     "output_type": "stream",
     "text": [
      "100%|██████████| 166/166 [01:48<00:00,  1.53it/s]\n"
     ]
    },
    {
     "name": "stdout",
     "output_type": "stream",
     "text": [
      "Train Loss: 94.8898, Train Accuracy: 79.79%, Train AUC: 0.96\n",
      "Validation Loss: 14.5329, Validation Accuracy: 76.00%, Validation AUC: 0.96\n",
      "Epoch 20/20\n"
     ]
    },
    {
     "name": "stderr",
     "output_type": "stream",
     "text": [
      "100%|██████████| 166/166 [01:49<00:00,  1.52it/s]\n"
     ]
    },
    {
     "name": "stdout",
     "output_type": "stream",
     "text": [
      "Train Loss: 71.8011, Train Accuracy: 84.62%, Train AUC: 0.97\n",
      "Validation Loss: 15.8971, Validation Accuracy: 78.00%, Validation AUC: 0.96\n"
     ]
    },
    {
     "data": {
      "image/png": "[encoded data removed]",
      "text/plain": [
       "<Figure size 640x480 with 1 Axes>"
      ]
     },
     "metadata": {},
     "output_type": "display_data"
    },
    {
     "data": {
      "image/png": "[encoded data removed]",
      "text/plain": [
       "<Figure size 640x480 with 1 Axes>"
      ]
     },
     "metadata": {},
     "output_type": "display_data"
    },
    {
     "data": {
      "image/png": "[encoded data removed]",
      "text/plain": [
       "<Figure size 640x480 with 1 Axes>"
      ]
     },
     "metadata": {},
     "output_type": "display_data"
    }
   ],
   "source": [
    "train_tcn = train_model(tcn_model, train_loader, val_loader, num_epochs=20, device='mps', lr=0.001)"
   ]
  }
 ],
 "metadata": {
  "kernelspec": {
   "display_name": "torch",
   "language": "python",
   "name": "python3"
  },
  "language_info": {
   "codemirror_mode": {
    "name": "ipython",
    "version": 3
   },
   "file_extension": ".py",
   "mimetype": "text/x-python",
   "name": "python",
   "nbconvert_exporter": "python",
   "pygments_lexer": "ipython3",
   "version": "3.11.4"
  }
 },
 "nbformat": 4,
 "nbformat_minor": 2
}
